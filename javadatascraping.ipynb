{
 "cells": [
  {
   "cell_type": "code",
   "execution_count": 1,
   "metadata": {},
   "outputs": [],
   "source": [
    "import java.io.BufferedReader;\n",
    "import java.io.IOException;\n",
    "import java.io.InputStreamReader;\n",
    "import java.net.HttpURLConnection;\n",
    "import java.net.URL;\n",
    "import java.util.ArrayList;\n",
    "import java.util.List;\n",
    "import java.util.regex.Matcher;\n",
    "import java.util.regex.Pattern;\n",
    "\n",
    "public class SP500Scrape {\n",
    "    public static void main(String[] args) {\n",
    "        try {\n",
    "            // Create a URL object for the website that we want to scrape\n",
    "            URL url = new URL(\"https://www.slickcharts.com/sp500\");\n",
    "\n",
    "            // Create an HttpURLConnection object for the URL\n",
    "            HttpURLConnection connection = (HttpURLConnection) url.openConnection();\n",
    "\n",
    "            // Get the HTML content of the website\n",
    "            BufferedReader reader = new BufferedReader(new InputStreamReader(connection.getInputStream()));\n",
    "            StringBuilder htmlContent = new StringBuilder();\n",
    "            String line;\n",
    "\n",
    "            while ((line = reader.readLine()) != null) {\n",
    "                htmlContent.append(line);\n",
    "            }\n",
    "\n",
    "            // Close the reader\n",
    "            reader.close();\n",
    "\n",
    "            // Extract the data that we are interested in using regular expressions\n",
    "            Pattern pattern = Pattern.compile(\"<td>(\\\\d+\\\\.\\\\d+)</td>\");\n",
    "            Matcher matcher = pattern.matcher(htmlContent.toString());\n",
    "\n",
    "            List<Double> sp500Prices = new ArrayList<>();\n",
    "\n",
    "            while (matcher.find()) {\n",
    "                sp500Prices.add(Double.parseDouble(matcher.group(1)));\n",
    "            }\n",
    "\n",
    "            // Print the S&P 500 prices to the console\n",
    "            for (Double price : sp500Prices) {\n",
    "                System.out.println(price);\n",
    "            }\n",
    "        } catch (IOException e) {\n",
    "            e.printStackTrace();\n",
    "        }\n",
    "    }\n",
    "}\n"
   ]
  }
 ],
 "metadata": {
  "kernelspec": {
   "display_name": "Java",
   "language": "java",
   "name": "java"
  },
  "language_info": {
   "codemirror_mode": "java",
   "file_extension": ".jshell",
   "mimetype": "text/x-java-source",
   "name": "java",
   "pygments_lexer": "java",
   "version": "20.0.2+9-78"
  }
 },
 "nbformat": 4,
 "nbformat_minor": 2
}
